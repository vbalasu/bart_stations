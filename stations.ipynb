{
 "cells": [
  {
   "cell_type": "markdown",
   "metadata": {},
   "source": [
    "# Bart Stations\n",
    "\n",
    "This notebook shows how you can crawl the Bart website, extract station names and addresses and plot them in Google Maps"
   ]
  },
  {
   "cell_type": "code",
   "execution_count": 1,
   "metadata": {},
   "outputs": [],
   "source": [
    "import requests\n",
    "c = requests.get('https://www.bart.gov/stations').content"
   ]
  },
  {
   "cell_type": "code",
   "execution_count": 2,
   "metadata": {},
   "outputs": [],
   "source": [
    "from bs4 import BeautifulSoup\n",
    "soup = BeautifulSoup(c)"
   ]
  },
  {
   "cell_type": "code",
   "execution_count": 3,
   "metadata": {},
   "outputs": [],
   "source": [
    "links = soup.find_all('a')"
   ]
  },
  {
   "cell_type": "code",
   "execution_count": 4,
   "metadata": {},
   "outputs": [],
   "source": [
    "# It looks like Bart assigns a 4 character code for every station\n",
    "import re\n",
    "station_exp = re.compile('/stations/.{4}$')"
   ]
  },
  {
   "cell_type": "code",
   "execution_count": 5,
   "metadata": {},
   "outputs": [],
   "source": [
    "hrefs = [link.attrs['href'] for link in links]\n",
    "stations = [href for href in hrefs if station_exp.match(href)]"
   ]
  },
  {
   "cell_type": "code",
   "execution_count": 6,
   "metadata": {},
   "outputs": [
    {
     "name": "stdout",
     "output_type": "stream",
     "text": [
      "station_name,station_address\n",
      "\"12th St. Oakland City Center Station\",\"1245 Broadway, Oakland, CA 94612\"\n",
      "\"16th St. Mission Station\",\"2000 Mission Street, San Francisco, CA 94110\"\n",
      "\"19th St. Oakland Station\",\"1900 Broadway, Oakland, CA 94612\"\n",
      "\"24th St. Mission Station\",\"2800 Mission Street, San Francisco, CA 94110\"\n",
      "\"Antioch Station\",\"1600 Slatten Ranch Road, Antioch, CA 94509\"\n",
      "\"Ashby Station\",\"3100 Adeline Street, Berkeley, CA 94703\"\n",
      "\"Balboa Park Station\",\"401 Geneva Avenue, San Francisco, CA 94112\"\n",
      "\"Bay Fair Station\",\"15242 Hesperian Blvd., San Leandro, CA 94578\"\n",
      "\"Castro Valley Station\",\"3301 Norbridge Dr., Castro Valley, CA 94546\"\n",
      "\"Civic Center / UN Plaza Station\",\"1150 Market Street, San Francisco, CA 94102\"\n",
      "\"Coliseum Station\",\"7200 San Leandro St., Oakland, CA 94621\"\n",
      "\"Colma Station\",\"365 D Street, Colma, CA 94014\"\n",
      "\"Concord Station\",\"1451 Oakland Avenue, Concord, CA 94520\"\n",
      "\"Daly City Station\",\"500 John Daly Blvd., Daly City, CA 94014\"\n",
      "\"Downtown Berkeley Station\",\"2160 Shattuck Avenue, Berkeley, CA 94704\"\n",
      "\"Dublin / Pleasanton Station\",\"5801 Owens Dr., Pleasanton, CA 94588\"\n",
      "\"El Cerrito del Norte Station\",\"6400 Cutting Blvd., El Cerrito, CA 94530\"\n",
      "\"El Cerrito Plaza Station\",\"6699 Fairmount Avenue, El Cerrito, CA 94530\"\n",
      "\"Embarcadero Station\",\"298 Market Street, San Francisco, CA 94111\"\n",
      "\"Fremont Station\",\"2000 BART Way, Fremont, CA 94536\"\n",
      "\"Fruitvale Station\",\"3401 East 12th Street, Oakland, CA 94601\"\n",
      "\"Glen Park Station\",\"2901 Diamond Street, San Francisco, CA 94131\"\n",
      "\"Hayward Station\",\"699 'B' Street, Hayward, CA 94541\"\n",
      "\"Lafayette Station\",\"3601 Deer Hill Road, Lafayette, CA 94549\"\n",
      "\"Lake Merritt Station\",\"800 Madison Street, Oakland, CA 94607\"\n",
      "\"MacArthur Station\",\"555 40th Street, Oakland, CA 94609\"\n",
      "\"Millbrae Station\",\"200 North Rollins Road, Millbrae, CA 94030\"\n",
      "\"Montgomery St. Station\",\"598 Market Street, San Francisco, CA 94104\"\n",
      "\"North Berkeley Station\",\"1750 Sacramento Street, Berkeley, CA 94702\"\n",
      "\"North Concord / Martinez Station\",\"3700 Port Chicago Highway, Concord, CA 94520\"\n",
      "\"Oakland International Airport Station\",\"4 Airport Drive, Oakland, CA 94621\"\n",
      "\"Orinda Station\",\"11 Camino Pablo, Orinda, CA 94563\"\n",
      "\"Pittsburg / Bay Point Station\",\"1700 West Leland Road, Pittsburg, CA 94565\"\n",
      "\"Pittsburg Center Station\",\"2099 Railroad Avenue, Pittsburg, CA 94565\"\n",
      "\"Pleasant Hill / Contra Costa Centre Station\",\"1365 Treat Blvd., Walnut Creek, CA 94597\"\n",
      "\"Powell St. Station\",\"899 Market Street, San Francisco, CA 94102\"\n",
      "\"Richmond Station\",\"1700 Nevin Avenue, Richmond, CA 94801\"\n",
      "\"Rockridge Station\",\"5660 College Avenue, Oakland, CA 94618\"\n",
      "\"San Bruno Station\",\"1151 Huntington Avenue, San Bruno, CA 94066\"\n",
      "\"San Francisco International Airport Station\",\"International Terminal, Level 3, San Francisco Int'l Airport, CA 94128\"\n",
      "\"San Leandro Station\",\"1401 San Leandro Blvd., San Leandro, CA 94577\"\n",
      "\"South Hayward Station\",\"28601 Dixon Street, Hayward, CA 94544\"\n",
      "\"South San Francisco Station\",\"1333 Mission Road, South San Francisco, CA 94080\"\n",
      "\"Union City Station\",\"10 Union Square, Union City, CA 94587\"\n",
      "\"Walnut Creek Station\",\"200 Ygnacio Valley Road, Walnut Creek, CA 94596\"\n",
      "\"Warm Springs / South Fremont Station\",\"45193 Warm Springs Blvd, Fremont, CA 94539\"\n",
      "\"West Dublin / Pleasanton Station\",\"6501 Golden Gate Drive, Dublin, CA 94568\"\n",
      "\"West Oakland Station\",\"1451 7th Street, Oakland, CA 94607\"\n"
     ]
    }
   ],
   "source": [
    "base_url = 'https://www.bart.gov'\n",
    "address = re.compile('/planner\\?origin=(.*)$')\n",
    "print(\"station_name,station_address\")\n",
    "for s in stations:\n",
    "    c = requests.get(f'{base_url}{s}').content\n",
    "    station_name = BeautifulSoup(c).find_all('h1')[0].text\n",
    "    links = BeautifulSoup(c).find_all('a', href=True)\n",
    "    hrefs = [link.attrs['href'] for link in links]\n",
    "    addresses = [address.match(href).group(1) for href in hrefs if address.match(href)]\n",
    "    print(f'\"{station_name}\",\"{addresses[0]}\"')"
   ]
  },
  {
   "cell_type": "markdown",
   "metadata": {},
   "source": [
    "### Import into Google Maps\n",
    "\n",
    "Save the above result as a CSV file, then import into Google My Maps\n",
    "\n",
    "The result is here: https://drive.google.com/open?id=1nvmxajzh09Da_vERTH3c49G98UCNr4Mv&usp=sharing"
   ]
  },
  {
   "cell_type": "markdown",
   "metadata": {},
   "source": [
    "![Bart Stations](bart_stations.png)"
   ]
  }
 ],
 "metadata": {
  "kernelspec": {
   "display_name": "Python 3",
   "language": "python",
   "name": "python3"
  },
  "language_info": {
   "codemirror_mode": {
    "name": "ipython",
    "version": 3
   },
   "file_extension": ".py",
   "mimetype": "text/x-python",
   "name": "python",
   "nbconvert_exporter": "python",
   "pygments_lexer": "ipython3",
   "version": "3.7.0"
  }
 },
 "nbformat": 4,
 "nbformat_minor": 2
}
